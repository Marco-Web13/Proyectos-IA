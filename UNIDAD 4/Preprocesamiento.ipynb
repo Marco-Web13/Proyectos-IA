{
 "cells": [
  {
   "cell_type": "markdown",
   "id": "5f6ac217",
   "metadata": {},
   "source": [
    "Integrantes:\n"
   ]
  },
  {
   "cell_type": "raw",
   "id": "dbe5693b",
   "metadata": {},
   "source": [
    "Gomez Gastelum Diego Alejandro\n",
    "Meza Manjarrez Marco Josue\n",
    "Inteligencia Artificial\n",
    "Preprocesamiento de imagenes de Emociones"
   ]
  },
  {
   "cell_type": "markdown",
   "id": "adf30323",
   "metadata": {},
   "source": [
    "Importar Librerias\n"
   ]
  },
  {
   "cell_type": "code",
   "execution_count": 5,
   "id": "732ac935",
   "metadata": {},
   "outputs": [],
   "source": [
    "import os\n",
    "import tensorflow as tf\n",
    "from tensorflow import keras\n",
    "from keras._tf_keras.keras.preprocessing.image import ImageDataGenerator"
   ]
  },
  {
   "cell_type": "markdown",
   "id": "1990cb88",
   "metadata": {},
   "source": [
    "Pre-Procesamiento de imagenes"
   ]
  },
  {
   "cell_type": "code",
   "execution_count": null,
   "id": "e5b1c1f1",
   "metadata": {},
   "outputs": [],
   "source": [
    "train_datagen = ImageDataGenerator(\n",
    "    rescale=1./255, \n",
    "    rotation_range=20, \n",
    "    brightness_range=(0.8, 1.2),  \n",
    "    fill_mode='nearest' \n",
    ")\n",
    "\n",
    "val_datagen = ImageDataGenerator(rescale=1./255)  "
   ]
  },
  {
   "cell_type": "code",
   "execution_count": null,
   "id": "4c8ca723",
   "metadata": {},
   "outputs": [],
   "source": [
    "\n",
    "train_dir = r\"./dataset/train\"  "
   ]
  },
  {
   "cell_type": "markdown",
   "id": "25f78a6a",
   "metadata": {},
   "source": [
    "Se crean los generadores"
   ]
  },
  {
   "cell_type": "code",
   "execution_count": null,
   "id": "bff87ba6",
   "metadata": {},
   "outputs": [
    {
     "name": "stdout",
     "output_type": "stream",
     "text": [
      "Found 28709 images belonging to 7 classes.\n"
     ]
    }
   ],
   "source": [
    "train_generator = train_datagen.flow_from_directory(\n",
    "    train_dir,\n",
    "    target_size=(128, 128),  \n",
    "    batch_size=32,\n",
    "    class_mode='categorical',  \n",
    ")"
   ]
  }
 ],
 "metadata": {
  "kernelspec": {
   "display_name": ".venv",
   "language": "python",
   "name": "python3"
  },
  "language_info": {
   "codemirror_mode": {
    "name": "ipython",
    "version": 3
   },
   "file_extension": ".py",
   "mimetype": "text/x-python",
   "name": "python",
   "nbconvert_exporter": "python",
   "pygments_lexer": "ipython3",
   "version": "3.10.0"
  }
 },
 "nbformat": 4,
 "nbformat_minor": 5
}
